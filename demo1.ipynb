{
 "cells": [
  {
   "cell_type": "code",
   "execution_count": 1,
   "metadata": {
    "collapsed": true,
    "pycharm": {
     "name": "#%%\n"
    }
   },
   "outputs": [],
   "source": [
    "import gurobipy"
   ]
  },
  {
   "cell_type": "code",
   "execution_count": 2,
   "outputs": [],
   "source": [
    "# 前置信息\n",
    "\n",
    "# 被违反的，需要修复的Policy\n",
    "POLICY = gurobipy.tuplelist([('m', 'j'), ])\n",
    "\n",
    "CONFIG = {\n",
    "    'a': ['i'],\n",
    "    'b': ['i'],\n",
    "    'c': [],\n",
    "    'd': ['f'],\n",
    "    'e': ['g'],\n",
    "    'f': ['j'],\n",
    "    'g': ['j'],\n",
    "    'h': ['j'],\n",
    "    'i': ['c', 'd', 'e'],\n",
    "    'j': ['k'],\n",
    "    'k': [],\n",
    "    'm': ['p'],\n",
    "    'p': [],\n",
    "}\n",
    "\n",
    "TOPO = {\n",
    "    'a': ['i'],\n",
    "    'b': ['i'],\n",
    "    'c': ['i'],\n",
    "    'd': ['i', 'f'],\n",
    "    'e': ['i', 'g'],\n",
    "    'f': ['d', 'j'],\n",
    "    'g': ['e', 'j'],\n",
    "    'h': ['j'],\n",
    "    'i': ['a', 'b', 'c', 'd', 'e'],\n",
    "    'j': ['f', 'g', 'h', 'k', 'q'],\n",
    "    'k': ['j'],\n",
    "    'm': ['p'],\n",
    "    'p': ['m', 'q', 'r'],\n",
    "    'q': ['j', 'p', 'r'],\n",
    "    'r': ['q', 'p']\n",
    "}\n",
    "\n",
    "\n",
    "# 边集\n",
    "def get_edge_set(graph):\n",
    "    result = gurobipy.tuplelist()\n",
    "    for pre, nexts in graph.items():\n",
    "        for next in nexts:\n",
    "            result.append((pre, next))\n",
    "    return result\n",
    "\n",
    "\n",
    "E_topo = get_edge_set(TOPO)\n",
    "E_config = get_edge_set(CONFIG)"
   ],
   "metadata": {
    "collapsed": false,
    "pycharm": {
     "name": "#%%\n"
    }
   }
  },
  {
   "cell_type": "markdown",
   "source": [
    "由于后面要使用**图的边数**、**结点的邻居**。因此**使用邻接表建有向图**，并**根据图获得边集**"
   ],
   "metadata": {
    "collapsed": false,
    "pycharm": {
     "name": "#%% md\n"
    }
   }
  },
  {
   "cell_type": "code",
   "execution_count": 3,
   "outputs": [],
   "source": [
    "# 创建模型与变量\n",
    "MODEL = gurobipy.Model()\n",
    "x_ij = MODEL.addVars(E_topo, vtype=gurobipy.GRB.BINARY, name='x_ij')\n",
    "x_ijpq = MODEL.addVars(E_topo, POLICY, vtype=gurobipy.GRB.BINARY)\n",
    "# 更新变量环境\n",
    "MODEL.update()"
   ],
   "metadata": {
    "collapsed": false,
    "pycharm": {
     "name": "#%%\n"
    }
   }
  },
  {
   "cell_type": "code",
   "execution_count": 4,
   "outputs": [],
   "source": [
    "# 目标函数\n",
    "MODEL.setObjective(gurobipy.quicksum(x_ij[i, j] for (i, j) in E_topo if (i, j) not in E_config),\n",
    "                   sense=gurobipy.GRB.MINIMIZE)"
   ],
   "metadata": {
    "collapsed": false,
    "pycharm": {
     "name": "#%%\n"
    }
   }
  },
  {
   "cell_type": "code",
   "execution_count": 5,
   "outputs": [],
   "source": [
    "# 创建约束\n",
    "# (1) & (2) 上面存的TOPO是双向边，所以不用显式声明(2)的Constrain\n",
    "MODEL.addConstrs(\n",
    "    gurobipy.quicksum(x_ijpq[i, j, p, q] / len(POLICY) for p, q in POLICY)\n",
    "    <= x_ij[i, j] for i, j in E_topo\n",
    ")\n",
    "MODEL.addConstrs(\n",
    "    gurobipy.quicksum(x_ijpq[i, j, p, q] for p, q in POLICY)\n",
    "    >= x_ij[i, j] for i, j in E_topo\n",
    ")\n",
    "\n",
    "# (3)\n",
    "MODEL.addConstrs(\n",
    "    x_ij[i, j] + x_ij[j, i] <= 1\n",
    "    for i, j in E_topo\n",
    ")\n",
    "\n",
    "# (4)\n",
    "MODEL.addConstrs(\n",
    "    gurobipy.quicksum(x_ij[i,j] for j in TOPO[i]) <=1\n",
    "    for i in TOPO\n",
    ")\n",
    "\n",
    "# (5) (6) i=p\n",
    "MODEL.addConstrs(\n",
    "    gurobipy.quicksum(x_ijpq[i,j,p,q] for j in TOPO[i]) == 1\n",
    "    for p,q in POLICY for i in TOPO if i==p\n",
    ")\n",
    "\n",
    "# (7) (8) i=q\n",
    "MODEL.addConstrs(\n",
    "    gurobipy.quicksum(x_ijpq[j,i,p,q] for j in TOPO[i]) == 1\n",
    "    for p,q in POLICY for i in TOPO if i==q\n",
    ")\n",
    "\n",
    "# (9)\n",
    "MODEL.addConstrs(\n",
    "    gurobipy.quicksum((x_ijpq[i,j,p,q]-x_ijpq[j,i,p,q]) for j in TOPO[i]) == 0\n",
    "    for p,q in POLICY for i in TOPO if i != p and i != q\n",
    ")\n",
    "\n",
    "MODEL.update()"
   ],
   "metadata": {
    "collapsed": false,
    "pycharm": {
     "name": "#%%\n"
    }
   }
  },
  {
   "cell_type": "code",
   "execution_count": 6,
   "outputs": [
    {
     "name": "stdout",
     "output_type": "stream",
     "text": [
      "Gurobi Optimizer version 9.5.1 build v9.5.1rc2 (win64)\n",
      "Thread count: 6 physical cores, 12 logical processors, using up to 12 threads\n",
      "Optimize a model with 126 rows, 64 columns and 282 nonzeros\n",
      "Model fingerprint: 0x6731fe99\n",
      "Variable types: 0 continuous, 64 integer (64 binary)\n",
      "Coefficient statistics:\n",
      "  Matrix range     [1e+00, 1e+00]\n",
      "  Objective range  [1e+00, 1e+00]\n",
      "  Bounds range     [1e+00, 1e+00]\n",
      "  RHS range        [1e+00, 1e+00]\n",
      "Found heuristic solution: objective 2.0000000\n",
      "Presolve removed 126 rows and 64 columns\n",
      "Presolve time: 0.00s\n",
      "Presolve: All rows and columns removed\n",
      "\n",
      "Explored 0 nodes (0 simplex iterations) in 0.01 seconds (0.00 work units)\n",
      "Thread count was 1 (of 12 available processors)\n",
      "\n",
      "Solution count 1: 2 \n",
      "\n",
      "Optimal solution found (tolerance 1.00e-04)\n",
      "Best objective 2.000000000000e+00, best bound 2.000000000000e+00, gap 0.0000%\n"
     ]
    }
   ],
   "source": [
    "# 执行\n",
    "MODEL.optimize()"
   ],
   "metadata": {
    "collapsed": false,
    "pycharm": {
     "name": "#%%\n"
    }
   }
  },
  {
   "cell_type": "code",
   "execution_count": 10,
   "outputs": [
    {
     "name": "stdout",
     "output_type": "stream",
     "text": [
      "添加边: ('p', 'q')\n",
      "添加边: ('q', 'j')\n"
     ]
    }
   ],
   "source": [
    "# 输出\n",
    "if MODEL.status == gurobipy.GRB.Status.OPTIMAL:\n",
    "    for k, v in MODEL.getAttr('x', x_ij).items():\n",
    "        if v == 1 and (k not in E_config):\n",
    "            print(f'添加边: {k}')"
   ],
   "metadata": {
    "collapsed": false,
    "pycharm": {
     "name": "#%%\n"
    }
   }
  }
 ],
 "metadata": {
  "kernelspec": {
   "display_name": "Python 3",
   "language": "python",
   "name": "python3"
  },
  "language_info": {
   "codemirror_mode": {
    "name": "ipython",
    "version": 2
   },
   "file_extension": ".py",
   "mimetype": "text/x-python",
   "name": "python",
   "nbconvert_exporter": "python",
   "pygments_lexer": "ipython2",
   "version": "2.7.6"
  }
 },
 "nbformat": 4,
 "nbformat_minor": 0
}